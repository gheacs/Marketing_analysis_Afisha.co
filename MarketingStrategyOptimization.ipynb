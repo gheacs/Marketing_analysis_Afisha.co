# Introduction
# Goal
# Welcome to the data analysis project aimed at optimizing the marketing budget for Y.Afisha company! In this project, we will analyze website visit data, order data, and marketing expenditure data. The ultimate goal of this project is to provide recommendations on how the marketing budget can be optimized to improve the company's performance.

# Data Overview
# The available data would consist of:
# 1. Server logs/records containing website visit data to Y.Afisha from January 2017 to December 2018.
# 2. A dump file containing all orders made during that period.
# 3. Marketing cost statistics.

# Analysis Stages
# Step 1: Data Extraction
# Firstly, we will load the data from the three provided files: visits_log_us.csv, orders_log_us.csv, and costs_us.csv. 

# Step 2: Data Preparation
# After loading, we will examine the data structure and perform any necessary preprocessing.

# Step 3: Metric Analysis
# Product Usage Analysis:
# - Number of people using the product daily, weekly, and monthly.
# - Number of sessions per day.
# - Average duration per session.
# - User retention frequency.

# Sales Analysis:
# - Time of first purchase.
# - Number of orders during specific time periods.
# - Average purchase amount.
# - Total revenue contributed by users (LTV).

# Marketing Analysis:
# - Total marketing expenditure.
# - Marketing expenditure per source.
# - Calculation of customer acquisition cost per source.
# - Calculation of Return on Investment (ROI).

# Step 4: Conclusion and Recommendations
# After analyzing the above metrics, it's time to draw conclusions and provide recommendations to the Y.Afisha marketing team.

import pandas as pd
import numpy as np
import matplotlib.pyplot as plt
from scipy import stats as st

# Load data
visits = pd.read_csv('/datasets/visits_log_us.csv')
orders = pd.read_csv('/datasets/orders_log_us.csv')
costs = pd.read_csv('/datasets/costs_us.csv')

# Data Preparation
# Preprocessing visits data
visits.columns = visits.columns.str.replace(' ', '_')
visits['end_ts'] = pd.to_datetime(visits['end_ts'])
visits['start_ts'] = pd.to_datetime(visits['start_ts'])

# Preprocessing orders data
orders.columns = orders.columns.str.replace(' ', '_')
orders['buy_ts'] = pd.to_datetime(orders['buy_ts'])

# Preprocessing costs data
costs['dt'] = pd.to_datetime(costs['dt'])

# ...

# Convert 'first_order' and 'first_visit' to datetime
orders['first_order'] = pd.to_datetime(orders['first_order'])
orders['first_visit'] = pd.to_datetime(orders['first_visit'])

# Calculate the time to the first order
orders['time_to_first_order'] = (orders['first_order'] - orders['first_visit'])

# Display the summary statistics for the time to first order
print(orders['time_to_first_order'].describe())

# Calculate average time to purchase per source_id
orders['time_to_first_order_days'] = orders['time_to_first_order'].dt.days
average_time_per_source = orders.groupby('source_id')['time_to_first_order_days'].mean()
print(average_time_per_source)

# Perform Shapiro-Wilk normality test
from scipy.stats import shapiro
shapiro_test = shapiro(average_time_per_source)
print('Shapiro-Wilk Test Statistic:', shapiro_test.statistic)
print('P-Value:', shapiro_test.pvalue)

# Calculate how many orders users make during a specific period
orders_per_user = orders.groupby('uid').size()
print(orders_per_user.describe())

# Calculate the average order value
average_order_value = orders.groupby('uid')['revenue'].mean()
print('Overall Average Order Value:', average_order_value.mean())

# Calculate LTV - Customer Lifetime Value
ltv_per_user = orders.groupby('uid')['revenue'].sum()
print(ltv_per_user.describe())

# Marketing Analysis
# Calculate total marketing costs
total_costs = costs['costs'].sum()
print('Total Marketing Costs:', total_costs)

# Calculate marketing costs per source
costs_per_source = costs.groupby('source_id')['costs'].sum()
print(costs_per_source)

# Calculate marketing costs over time
costs_over_time = costs.groupby('dt')['costs'].sum()
print(costs_over_time.describe())

# Calculate Customer Acquisition Cost (CAC) per source
user_per_source = orders.groupby('source_id')['uid'].nunique()
cac_per_source = costs_per_source / user_per_source
print('CAC per Source:', cac_per_source)

# Calculate Return on Investment (ROI)
revenue_per_source = orders.groupby('source_id')['revenue'].sum()
roi_per_source = revenue_per_source / cac_per_source
print('ROI per Source:', roi_per_source)

# ###### General Conclusion

# The company has to focus on Source_Id 5 and 3
# 
# Source_id 5:
# 1. This source shows the highest ROI, indicating that it is generating significant revenue relative to the marketing cost.
# 2. Allocate a larger portion of the marketing budget to source_id 5 to further capitalize on its high ROI.
# 3. Implement targeted marketing campaigns specific to this source to attract and retain customers.
# 4. Analyze the characteristics of customers acquired through source_id 5 to identify their preferences and tailor marketing strategies accordingly.
# 5. Continuously monitor and optimize the performance of campaigns related to source_id 5 to maximize its potential.
# 
# Source_id 3:
# 1. Although source_id 3 has a higher customer acquisition cost (CAC), it still contributes to revenue generation.
# 2. Evaluate the effectiveness of marketing efforts for source_id 3 to identify areas for improvement and cost optimization.
# 3. Consider implementing strategies to improve conversion rates and customer retention for this source to enhance its ROI.
# 4. Explore alternative marketing channels or tactics that might offer a more cost-effective approach for acquiring customers from source_id 3.
# 5. Monitor the performance closely and make data-driven decisions to adjust the marketing strategy for source_id 3.




